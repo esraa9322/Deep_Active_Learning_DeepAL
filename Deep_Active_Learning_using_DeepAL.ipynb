{
  "nbformat": 4,
  "nbformat_minor": 0,
  "metadata": {
    "colab": {
      "provenance": [],
      "gpuType": "T4",
      "include_colab_link": true
    },
    "kernelspec": {
      "name": "python3",
      "display_name": "Python 3"
    },
    "language_info": {
      "name": "python"
    },
    "gpuClass": "standard",
    "accelerator": "GPU"
  },
  "cells": [
    {
      "cell_type": "markdown",
      "metadata": {
        "id": "view-in-github",
        "colab_type": "text"
      },
      "source": [
        "<a href=\"https://colab.research.google.com/github/esraa9322/Deep_Active_Learning_DeepAL/blob/main/Deep_Active_Learning_using_DeepAL.ipynb\" target=\"_parent\"><img src=\"https://colab.research.google.com/assets/colab-badge.svg\" alt=\"Open In Colab\"/></a>"
      ]
    },
    {
      "cell_type": "markdown",
      "source": [
        "# **Imports ,Installations and Setup**"
      ],
      "metadata": {
        "id": "Lnj2nkyMI1WV"
      }
    },
    {
      "cell_type": "code",
      "execution_count": null,
      "metadata": {
        "colab": {
          "base_uri": "https://localhost:8080/"
        },
        "id": "xss1UcsG_iZ9",
        "outputId": "a780422b-3015-4b37-bc3b-d0e3f125f046"
      },
      "outputs": [
        {
          "output_type": "stream",
          "name": "stdout",
          "text": [
            "Looking in indexes: https://pypi.org/simple, https://us-python.pkg.dev/colab-wheels/public/simple/\n",
            "Requirement already satisfied: torch in /usr/local/lib/python3.10/dist-packages (2.0.0+cu118)\n",
            "Requirement already satisfied: torchvision in /usr/local/lib/python3.10/dist-packages (0.15.1+cu118)\n",
            "Requirement already satisfied: torchaudio in /usr/local/lib/python3.10/dist-packages (2.0.1+cu118)\n",
            "Requirement already satisfied: jinja2 in /usr/local/lib/python3.10/dist-packages (from torch) (3.1.2)\n",
            "Requirement already satisfied: networkx in /usr/local/lib/python3.10/dist-packages (from torch) (3.1)\n",
            "Requirement already satisfied: sympy in /usr/local/lib/python3.10/dist-packages (from torch) (1.11.1)\n",
            "Requirement already satisfied: triton==2.0.0 in /usr/local/lib/python3.10/dist-packages (from torch) (2.0.0)\n",
            "Requirement already satisfied: filelock in /usr/local/lib/python3.10/dist-packages (from torch) (3.12.0)\n",
            "Requirement already satisfied: typing-extensions in /usr/local/lib/python3.10/dist-packages (from torch) (4.5.0)\n",
            "Requirement already satisfied: lit in /usr/local/lib/python3.10/dist-packages (from triton==2.0.0->torch) (16.0.2)\n",
            "Requirement already satisfied: cmake in /usr/local/lib/python3.10/dist-packages (from triton==2.0.0->torch) (3.25.2)\n",
            "Requirement already satisfied: pillow!=8.3.*,>=5.3.0 in /usr/local/lib/python3.10/dist-packages (from torchvision) (8.4.0)\n",
            "Requirement already satisfied: numpy in /usr/local/lib/python3.10/dist-packages (from torchvision) (1.22.4)\n",
            "Requirement already satisfied: requests in /usr/local/lib/python3.10/dist-packages (from torchvision) (2.27.1)\n",
            "Requirement already satisfied: MarkupSafe>=2.0 in /usr/local/lib/python3.10/dist-packages (from jinja2->torch) (2.1.2)\n",
            "Requirement already satisfied: urllib3<1.27,>=1.21.1 in /usr/local/lib/python3.10/dist-packages (from requests->torchvision) (1.26.15)\n",
            "Requirement already satisfied: charset-normalizer~=2.0.0 in /usr/local/lib/python3.10/dist-packages (from requests->torchvision) (2.0.12)\n",
            "Requirement already satisfied: idna<4,>=2.5 in /usr/local/lib/python3.10/dist-packages (from requests->torchvision) (3.4)\n",
            "Requirement already satisfied: certifi>=2017.4.17 in /usr/local/lib/python3.10/dist-packages (from requests->torchvision) (2022.12.7)\n",
            "Requirement already satisfied: mpmath>=0.19 in /usr/local/lib/python3.10/dist-packages (from sympy->torch) (1.3.0)\n"
          ]
        }
      ],
      "source": [
        "! pip3 install torch torchvision torchaudio "
      ]
    },
    {
      "cell_type": "code",
      "source": [
        "!pip install utils"
      ],
      "metadata": {
        "colab": {
          "base_uri": "https://localhost:8080/"
        },
        "id": "C7Wm-RvT_z6x",
        "outputId": "a86af7aa-c4a7-45d6-b816-bea08999ccb1"
      },
      "execution_count": null,
      "outputs": [
        {
          "output_type": "stream",
          "name": "stdout",
          "text": [
            "Looking in indexes: https://pypi.org/simple, https://us-python.pkg.dev/colab-wheels/public/simple/\n",
            "Requirement already satisfied: utils in /usr/local/lib/python3.10/dist-packages (1.0.1)\n"
          ]
        }
      ]
    },
    {
      "cell_type": "code",
      "source": [
        "import sys\n",
        "import numpy as np \n",
        "import pandas as pd\n",
        "import torch\n",
        "import torch.nn.functional as F\n",
        "import torch.nn as nn\n",
        "import matplotlib.pyplot as plt\n",
        "import numpy as np\n",
        "import seaborn as sns\n",
        "import torchvision\n",
        "import os\n",
        "\n",
        "from random import randrange\n",
        "from functools import partial\n",
        "from torchvision import datasets,transforms\n",
        "from torch import nn\n",
        "from tqdm import tqdm \n",
        "from torch.nn.modules import transformer\n",
        "from torchvision import transforms"
      ],
      "metadata": {
        "id": "gQ86sydTAAQj"
      },
      "execution_count": null,
      "outputs": []
    },
    {
      "cell_type": "code",
      "source": [
        "!git clone https://github.com/ej0cl6/deep-active-learning"
      ],
      "metadata": {
        "colab": {
          "base_uri": "https://localhost:8080/"
        },
        "id": "pIMn8A3NAM9B",
        "outputId": "90466cd9-810c-4688-bac5-02f3f341154e"
      },
      "execution_count": null,
      "outputs": [
        {
          "output_type": "stream",
          "name": "stdout",
          "text": [
            "fatal: destination path 'deep-active-learning' already exists and is not an empty directory.\n"
          ]
        }
      ]
    },
    {
      "cell_type": "code",
      "source": [
        "device = torch.device('cuda:0' if torch.cuda.is_available() else 'cpu')"
      ],
      "metadata": {
        "id": "44kJ9ahhATtK"
      },
      "execution_count": null,
      "outputs": []
    },
    {
      "cell_type": "code",
      "source": [
        "os.chdir('/content/deep-active-learning')\n",
        "\n",
        "sys.path.append('/content/deep-active-learning') "
      ],
      "metadata": {
        "id": "lXHla2iGAd2R"
      },
      "execution_count": null,
      "outputs": []
    },
    {
      "cell_type": "code",
      "source": [
        "with open('/content/deep-active-learning/data.py', 'r') as f:\n",
        "    DATA = f.read()\n",
        "exec(DATA)\n",
        "\n",
        "with open('/content/deep-active-learning/handlers.py', 'r') as f:\n",
        "    Handler = f.read()\n",
        "exec(Handler)\n",
        "with open('/content/deep-active-learning/nets.py', 'r') as f:\n",
        "    Nets = f.read()\n",
        "exec(Nets)"
      ],
      "metadata": {
        "id": "nr-xJ86lAlDl"
      },
      "execution_count": null,
      "outputs": []
    },
    {
      "cell_type": "markdown",
      "source": [
        "# **CIFAR10 Dataset Loading and Visualization**"
      ],
      "metadata": {
        "id": "f63RjiuKKBrT"
      }
    },
    {
      "cell_type": "markdown",
      "source": [
        "In the following section CIFAR10 dataset is loaded from pytorch built-in libraries, then visualized in a way that showes how balanced it is , then the class CIFAR10NET is initialized which contains the default convolutional architecture for CIFAR10 dataset in deepAL library , also it's most important parameters are initialized  "
      ],
      "metadata": {
        "id": "2O25VYxPTNVX"
      }
    },
    {
      "cell_type": "code",
      "source": [
        "trainset = torchvision.datasets.CIFAR10(\n",
        "    root='./data', train=True, download=True, transform=transforms.ToTensor()\n",
        ")\n",
        "\n",
        "testset = torchvision.datasets.CIFAR10(\n",
        "    root='./data', train=False, download=True, transform=transforms.ToTensor() \n",
        ") "
      ],
      "metadata": {
        "colab": {
          "base_uri": "https://localhost:8080/"
        },
        "id": "tCIFvfIJAZxw",
        "outputId": "a88439cb-59e8-4f30-9dc3-de3fd98d6c14"
      },
      "execution_count": null,
      "outputs": [
        {
          "output_type": "stream",
          "name": "stdout",
          "text": [
            "Downloading https://www.cs.toronto.edu/~kriz/cifar-10-python.tar.gz to ./data/cifar-10-python.tar.gz\n"
          ]
        },
        {
          "output_type": "stream",
          "name": "stderr",
          "text": [
            "100%|██████████| 170498071/170498071 [00:13<00:00, 12926104.95it/s]\n"
          ]
        },
        {
          "output_type": "stream",
          "name": "stdout",
          "text": [
            "Extracting ./data/cifar-10-python.tar.gz to ./data\n",
            "Files already downloaded and verified\n"
          ]
        }
      ]
    },
    {
      "cell_type": "code",
      "source": [
        "IDX_TO_LABEL = {v: k for k, v in trainset.class_to_idx.items()} "
      ],
      "metadata": {
        "id": "3n5c5UnARUyV"
      },
      "execution_count": null,
      "outputs": []
    },
    {
      "cell_type": "code",
      "source": [
        "cols = 6\n",
        "rows = 4\n",
        "fig, axs = plt.subplots(rows, cols, figsize=(12, 9))\n",
        "\n",
        "for x in range(rows):\n",
        "    for y in range(cols):\n",
        "        rnd_idx = randrange(len(trainset.data))\n",
        "        \n",
        "        axs[x, y].set_title(IDX_TO_LABEL[trainset.targets[rnd_idx]])\n",
        "        axs[x, y].imshow(trainset.data[rnd_idx])\n",
        "        axs[x, y].set_axis_off()\n",
        "\n",
        "plt.show()   "
      ],
      "metadata": {
        "colab": {
          "base_uri": "https://localhost:8080/",
          "height": 734
        },
        "id": "u9EMsm4SRWwk",
        "outputId": "228313ad-fd43-4cff-88b8-54065ad9f4fd"
      },
      "execution_count": null,
      "outputs": [
        {
          "output_type": "display_data",
          "data": {
            "text/plain": [
              "<Figure size 1200x900 with 24 Axes>"
            ],
            "image/png": "[encoded data removed]"
          },
          "metadata": {}
        }
      ]
    },
    {
      "cell_type": "code",
      "source": [
        "fig, ax = plt.subplots(figsize=(16, 6))\n",
        "\n",
        "sns.countplot(\n",
        "    x=pd.Series(trainset.targets).map(IDX_TO_LABEL), \n",
        "    order=IDX_TO_LABEL.values(),\n",
        ").set_title('Training set distribution')\n",
        "\n",
        "plt.show()\n"
      ],
      "metadata": {
        "colab": {
          "base_uri": "https://localhost:8080/",
          "height": 461
        },
        "id": "1-fPkG_fRwXQ",
        "outputId": "95d3a84f-78b5-4423-a1b6-e56ba972d9c1"
      },
      "execution_count": null,
      "outputs": [
        {
          "output_type": "display_data",
          "data": {
            "text/plain": [
              "<Figure size 1600x600 with 1 Axes>"
            ],
            "image/png": "[encoded data removed]"
          },
          "metadata": {}
        }
      ]
    },
    {
      "cell_type": "code",
      "source": [
        "fig, ax = plt.subplots(figsize=(16, 6))\n",
        "\n",
        "sns.countplot(\n",
        "    x=pd.Series(testset.targets).map(IDX_TO_LABEL), \n",
        "    order=IDX_TO_LABEL.values(),\n",
        ").set_title('Test set distribution')\n",
        "\n",
        "plt.show() "
      ],
      "metadata": {
        "colab": {
          "base_uri": "https://localhost:8080/",
          "height": 461
        },
        "id": "KC6KO47URzsw",
        "outputId": "a4ac71dd-d7d6-4db8-bae2-0c99ac09495f"
      },
      "execution_count": null,
      "outputs": [
        {
          "output_type": "display_data",
          "data": {
            "text/plain": [
              "<Figure size 1600x600 with 1 Axes>"
            ],
            "image/png": "[encoded data removed]"
          },
          "metadata": {}
        }
      ]
    },
    {
      "cell_type": "code",
      "source": [
        "#load dataset\n",
        "dataset1=Data(trainset.data[:40000], torch.LongTensor(trainset.targets)[:40000], testset.data[:40000], torch.LongTensor(testset.targets)[:40000], CIFAR10_Handler)"
      ],
      "metadata": {
        "id": "zXIg7fagArA-"
      },
      "execution_count": null,
      "outputs": []
    },
    {
      "cell_type": "code",
      "source": [
        "class CIFAR10_Net(nn.Module):\n",
        "    def __init__(self):\n",
        "        super(CIFAR10_Net, self).__init__()\n",
        "        self.conv1 = nn.Conv2d(3, 32, kernel_size=5)\n",
        "        self.conv2 = nn.Conv2d(32, 32, kernel_size=5)\n",
        "        self.conv3 = nn.Conv2d(32, 64, kernel_size=5)\n",
        "        self.fc1 = nn.Linear(1024, 50)\n",
        "        self.fc2 = nn.Linear(50, 10)\n",
        "\n",
        "    def forward(self, x):\n",
        "        x = F.relu(self.conv1(x))\n",
        "        x = F.relu(F.max_pool2d(self.conv2(x), 2))\n",
        "        x = F.relu(F.max_pool2d(self.conv3(x), 2))\n",
        "        x = x.view(-1, 1024)\n",
        "        e1 = F.relu(self.fc1(x))\n",
        "        x = F.dropout(e1, training=self.training)\n",
        "        x = self.fc2(x)\n",
        "        return x, e1\n",
        "    def get_embedding_dim(self):\n",
        "        return 50"
      ],
      "metadata": {
        "id": "aYlYLux6Aykd"
      },
      "execution_count": null,
      "outputs": []
    },
    {
      "cell_type": "code",
      "source": [
        "# defining parameters of the net \n",
        "CIFAR10={'n_epoch': 20, \n",
        "               'train_args':{'batch_size': 64, 'num_workers': 1},\n",
        "               'test_args':{'batch_size': 1000, 'num_workers': 1},\n",
        "               'optimizer_args':{'lr': 0.05, 'momentum': 0.3}}\n",
        "# load network \n",
        "net= Net(CIFAR10_Net, CIFAR10, device)                "
      ],
      "metadata": {
        "id": "K_nvqYvOA92V"
      },
      "execution_count": null,
      "outputs": []
    },
    {
      "cell_type": "markdown",
      "source": [
        "# **Testing different Strategies on CIFAR10 dataset**"
      ],
      "metadata": {
        "id": "sJN2bUxnSdtd"
      }
    },
    {
      "cell_type": "code",
      "source": [
        "from query_strategies.strategy import Strategy \n",
        "from query_strategies.margin_sampling import MarginSampling \n",
        "from query_strategies.entropy_sampling import EntropySampling\n",
        "from query_strategies.least_confidence import LeastConfidence\n",
        "from query_strategies.random_sampling import RandomSampling"
      ],
      "metadata": {
        "id": "wmcKDFDFUvxv"
      },
      "execution_count": null,
      "outputs": []
    },
    {
      "cell_type": "code",
      "source": [
        "strategy1=RandomSampling(dataset1,net)\n",
        "strategy2=MarginSampling(dataset1,net)\n",
        "strategy3=EntropySampling(dataset1,net)\n",
        "strategy4=LeastConfidence(dataset1,net)"
      ],
      "metadata": {
        "id": "QGiDxdPWBMxv"
      },
      "execution_count": null,
      "outputs": []
    },
    {
      "cell_type": "code",
      "source": [
        "##### RANDOM SAMPLING STRATEGY\n",
        "for rd in range(1,11):\n",
        "    print(f\"Round {rd}\")\n",
        "\n",
        "    # query\n",
        "    query_idxs = strategy1.query(500)\n",
        "\n",
        "    # update labels\n",
        "    strategy1.update(query_idxs)\n",
        "    strategy1.train()\n",
        "\n",
        "    # calculate accuracy\n",
        "    preds = strategy1.predict(dataset1.get_test_data())\n",
        "    print(f\"Round {rd} testing accuracy: {dataset1.cal_test_acc(preds)}\") "
      ],
      "metadata": {
        "colab": {
          "base_uri": "https://localhost:8080/"
        },
        "id": "wxU5tChCFMn3",
        "outputId": "9af06aa5-6237-4465-d632-8ec34090900c"
      },
      "execution_count": null,
      "outputs": [
        {
          "output_type": "stream",
          "name": "stdout",
          "text": [
            "Round 1\n"
          ]
        },
        {
          "output_type": "stream",
          "name": "stderr",
          "text": [
            "100%|███████████████████████████████████████████████████████████████| 20/20 [00:11<00:00,  1.73it/s]\n"
          ]
        },
        {
          "output_type": "stream",
          "name": "stdout",
          "text": [
            "Round 1 testing accuracy: 0.2731\n",
            "Round 2\n"
          ]
        },
        {
          "output_type": "stream",
          "name": "stderr",
          "text": [
            "100%|███████████████████████████████████████████████████████████████| 20/20 [00:09<00:00,  2.15it/s]\n"
          ]
        },
        {
          "output_type": "stream",
          "name": "stdout",
          "text": [
            "Round 2 testing accuracy: 0.3442\n",
            "Round 3\n"
          ]
        },
        {
          "output_type": "stream",
          "name": "stderr",
          "text": [
            "100%|███████████████████████████████████████████████████████████████| 20/20 [00:12<00:00,  1.56it/s]\n"
          ]
        },
        {
          "output_type": "stream",
          "name": "stdout",
          "text": [
            "Round 3 testing accuracy: 0.3842\n",
            "Round 4\n"
          ]
        },
        {
          "output_type": "stream",
          "name": "stderr",
          "text": [
            "100%|███████████████████████████████████████████████████████████████| 20/20 [00:16<00:00,  1.23it/s]\n"
          ]
        },
        {
          "output_type": "stream",
          "name": "stdout",
          "text": [
            "Round 4 testing accuracy: 0.3863\n",
            "Round 5\n"
          ]
        },
        {
          "output_type": "stream",
          "name": "stderr",
          "text": [
            "100%|███████████████████████████████████████████████████████████████| 20/20 [00:20<00:00,  1.02s/it]\n"
          ]
        },
        {
          "output_type": "stream",
          "name": "stdout",
          "text": [
            "Round 5 testing accuracy: 0.3583\n",
            "Round 6\n"
          ]
        },
        {
          "output_type": "stream",
          "name": "stderr",
          "text": [
            "100%|███████████████████████████████████████████████████████████████| 20/20 [00:23<00:00,  1.18s/it]\n"
          ]
        },
        {
          "output_type": "stream",
          "name": "stdout",
          "text": [
            "Round 6 testing accuracy: 0.4529\n",
            "Round 7\n"
          ]
        },
        {
          "output_type": "stream",
          "name": "stderr",
          "text": [
            "100%|███████████████████████████████████████████████████████████████| 20/20 [00:27<00:00,  1.37s/it]\n"
          ]
        },
        {
          "output_type": "stream",
          "name": "stdout",
          "text": [
            "Round 7 testing accuracy: 0.4706\n",
            "Round 8\n"
          ]
        },
        {
          "output_type": "stream",
          "name": "stderr",
          "text": [
            "100%|███████████████████████████████████████████████████████████████| 20/20 [00:30<00:00,  1.51s/it]\n"
          ]
        },
        {
          "output_type": "stream",
          "name": "stdout",
          "text": [
            "Round 8 testing accuracy: 0.4851\n",
            "Round 9\n"
          ]
        },
        {
          "output_type": "stream",
          "name": "stderr",
          "text": [
            "100%|███████████████████████████████████████████████████████████████| 20/20 [00:32<00:00,  1.65s/it]\n"
          ]
        },
        {
          "output_type": "stream",
          "name": "stdout",
          "text": [
            "Round 9 testing accuracy: 0.4284\n",
            "Round 10\n"
          ]
        },
        {
          "output_type": "stream",
          "name": "stderr",
          "text": [
            "100%|███████████████████████████████████████████████████████████████| 20/20 [00:37<00:00,  1.87s/it]\n"
          ]
        },
        {
          "output_type": "stream",
          "name": "stdout",
          "text": [
            "Round 10 testing accuracy: 0.5085\n"
          ]
        }
      ]
    },
    {
      "cell_type": "code",
      "source": [
        "##### MARGIN SAMPLING STRATEGY\n",
        "for rd in range(1,11):\n",
        "    print(f\"Round {rd}\")\n",
        "\n",
        "    # query\n",
        "    query_idxs = strategy2.query(500)\n",
        "\n",
        "    # update labels\n",
        "    strategy2.update(query_idxs)\n",
        "    strategy2.train()\n",
        "\n",
        "    # calculate accuracy\n",
        "    preds = strategy2.predict(dataset1.get_test_data())\n",
        "    print(f\"Round {rd} testing accuracy: {dataset1.cal_test_acc(preds)}\") "
      ],
      "metadata": {
        "colab": {
          "base_uri": "https://localhost:8080/"
        },
        "id": "54gD8PqpFG_C",
        "outputId": "243e5b71-98eb-4c71-c571-0b8662fabe0a"
      },
      "execution_count": null,
      "outputs": [
        {
          "output_type": "stream",
          "name": "stdout",
          "text": [
            "Round 1\n"
          ]
        },
        {
          "output_type": "stream",
          "name": "stderr",
          "text": [
            "100%|███████████████████████████████████████████████████████████████| 20/20 [00:40<00:00,  2.04s/it]\n"
          ]
        },
        {
          "output_type": "stream",
          "name": "stdout",
          "text": [
            "Round 1 testing accuracy: 0.5129\n",
            "Round 2\n"
          ]
        },
        {
          "output_type": "stream",
          "name": "stderr",
          "text": [
            "100%|███████████████████████████████████████████████████████████████| 20/20 [00:44<00:00,  2.24s/it]\n"
          ]
        },
        {
          "output_type": "stream",
          "name": "stdout",
          "text": [
            "Round 2 testing accuracy: 0.5471\n",
            "Round 3\n"
          ]
        },
        {
          "output_type": "stream",
          "name": "stderr",
          "text": [
            "100%|███████████████████████████████████████████████████████████████| 20/20 [00:50<00:00,  2.54s/it]\n"
          ]
        },
        {
          "output_type": "stream",
          "name": "stdout",
          "text": [
            "Round 3 testing accuracy: 0.5311\n",
            "Round 4\n"
          ]
        },
        {
          "output_type": "stream",
          "name": "stderr",
          "text": [
            "100%|███████████████████████████████████████████████████████████████| 20/20 [00:56<00:00,  2.84s/it]\n"
          ]
        },
        {
          "output_type": "stream",
          "name": "stdout",
          "text": [
            "Round 4 testing accuracy: 0.5042\n",
            "Round 5\n"
          ]
        },
        {
          "output_type": "stream",
          "name": "stderr",
          "text": [
            "100%|███████████████████████████████████████████████████████████████| 20/20 [01:00<00:00,  3.00s/it]\n"
          ]
        },
        {
          "output_type": "stream",
          "name": "stdout",
          "text": [
            "Round 5 testing accuracy: 0.5249\n",
            "Round 6\n"
          ]
        },
        {
          "output_type": "stream",
          "name": "stderr",
          "text": [
            "100%|███████████████████████████████████████████████████████████████| 20/20 [01:02<00:00,  3.15s/it]\n"
          ]
        },
        {
          "output_type": "stream",
          "name": "stdout",
          "text": [
            "Round 6 testing accuracy: 0.5521\n",
            "Round 7\n"
          ]
        },
        {
          "output_type": "stream",
          "name": "stderr",
          "text": [
            "100%|███████████████████████████████████████████████████████████████| 20/20 [01:05<00:00,  3.29s/it]\n"
          ]
        },
        {
          "output_type": "stream",
          "name": "stdout",
          "text": [
            "Round 7 testing accuracy: 0.5776\n",
            "Round 8\n"
          ]
        },
        {
          "output_type": "stream",
          "name": "stderr",
          "text": [
            "100%|███████████████████████████████████████████████████████████████| 20/20 [01:06<00:00,  3.32s/it]\n"
          ]
        },
        {
          "output_type": "stream",
          "name": "stdout",
          "text": [
            "Round 8 testing accuracy: 0.5408\n",
            "Round 9\n"
          ]
        },
        {
          "output_type": "stream",
          "name": "stderr",
          "text": [
            "100%|███████████████████████████████████████████████████████████████| 20/20 [01:09<00:00,  3.49s/it]\n"
          ]
        },
        {
          "output_type": "stream",
          "name": "stdout",
          "text": [
            "Round 9 testing accuracy: 0.561\n",
            "Round 10\n"
          ]
        },
        {
          "output_type": "stream",
          "name": "stderr",
          "text": [
            "100%|███████████████████████████████████████████████████████████████| 20/20 [01:13<00:00,  3.66s/it]\n"
          ]
        },
        {
          "output_type": "stream",
          "name": "stdout",
          "text": [
            "Round 10 testing accuracy: 0.5675\n"
          ]
        }
      ]
    },
    {
      "cell_type": "code",
      "source": [
        "##### ENTROPY SAMPLING STRATEGY\n",
        "for rd in range(1,11):\n",
        "    print(f\"Round {rd}\")\n",
        "\n",
        "    # query\n",
        "    query_idxs = strategy3.query(500)\n",
        "\n",
        "    # update labels\n",
        "    strategy3.update(query_idxs)\n",
        "    strategy3.train()\n",
        "\n",
        "    # calculate accuracy\n",
        "    preds = strategy3.predict(dataset1.get_test_data())\n",
        "    print(f\"Round {rd} testing accuracy: {dataset1.cal_test_acc(preds)}\") "
      ],
      "metadata": {
        "id": "k2cDYCDSXhcJ",
        "colab": {
          "base_uri": "https://localhost:8080/"
        },
        "outputId": "157ce231-932e-43ee-9288-b7113351de1c"
      },
      "execution_count": null,
      "outputs": [
        {
          "output_type": "stream",
          "name": "stdout",
          "text": [
            "Round 1\n"
          ]
        },
        {
          "output_type": "stream",
          "name": "stderr",
          "text": [
            "100%|███████████████████████████████████████████████████████████████| 20/20 [01:16<00:00,  3.83s/it]\n"
          ]
        },
        {
          "output_type": "stream",
          "name": "stdout",
          "text": [
            "Round 1 testing accuracy: 0.4463\n",
            "Round 2\n"
          ]
        },
        {
          "output_type": "stream",
          "name": "stderr",
          "text": [
            "100%|███████████████████████████████████████████████████████████████| 20/20 [01:19<00:00,  3.96s/it]\n"
          ]
        },
        {
          "output_type": "stream",
          "name": "stdout",
          "text": [
            "Round 2 testing accuracy: 0.5841\n",
            "Round 3\n"
          ]
        },
        {
          "output_type": "stream",
          "name": "stderr",
          "text": [
            "100%|███████████████████████████████████████████████████████████████| 20/20 [01:23<00:00,  4.17s/it]\n"
          ]
        },
        {
          "output_type": "stream",
          "name": "stdout",
          "text": [
            "Round 3 testing accuracy: 0.5685\n",
            "Round 4\n"
          ]
        },
        {
          "output_type": "stream",
          "name": "stderr",
          "text": [
            "100%|███████████████████████████████████████████████████████████████| 20/20 [01:26<00:00,  4.33s/it]\n"
          ]
        },
        {
          "output_type": "stream",
          "name": "stdout",
          "text": [
            "Round 4 testing accuracy: 0.5736\n",
            "Round 5\n"
          ]
        },
        {
          "output_type": "stream",
          "name": "stderr",
          "text": [
            "100%|███████████████████████████████████████████████████████████████| 20/20 [01:29<00:00,  4.48s/it]\n"
          ]
        },
        {
          "output_type": "stream",
          "name": "stdout",
          "text": [
            "Round 5 testing accuracy: 0.5349\n",
            "Round 6\n"
          ]
        },
        {
          "output_type": "stream",
          "name": "stderr",
          "text": [
            "100%|███████████████████████████████████████████████████████████████| 20/20 [01:33<00:00,  4.67s/it]\n"
          ]
        },
        {
          "output_type": "stream",
          "name": "stdout",
          "text": [
            "Round 6 testing accuracy: 0.5795\n",
            "Round 7\n"
          ]
        },
        {
          "output_type": "stream",
          "name": "stderr",
          "text": [
            "100%|███████████████████████████████████████████████████████████████| 20/20 [01:36<00:00,  4.82s/it]\n"
          ]
        },
        {
          "output_type": "stream",
          "name": "stdout",
          "text": [
            "Round 7 testing accuracy: 0.5757\n",
            "Round 8\n"
          ]
        },
        {
          "output_type": "stream",
          "name": "stderr",
          "text": [
            "100%|███████████████████████████████████████████████████████████████| 20/20 [01:40<00:00,  5.04s/it]\n"
          ]
        },
        {
          "output_type": "stream",
          "name": "stdout",
          "text": [
            "Round 8 testing accuracy: 0.6033\n",
            "Round 9\n"
          ]
        },
        {
          "output_type": "stream",
          "name": "stderr",
          "text": [
            "100%|███████████████████████████████████████████████████████████████| 20/20 [01:43<00:00,  5.17s/it]\n"
          ]
        },
        {
          "output_type": "stream",
          "name": "stdout",
          "text": [
            "Round 9 testing accuracy: 0.6132\n",
            "Round 10\n"
          ]
        },
        {
          "output_type": "stream",
          "name": "stderr",
          "text": [
            "100%|███████████████████████████████████████████████████████████████| 20/20 [01:47<00:00,  5.38s/it]\n"
          ]
        },
        {
          "output_type": "stream",
          "name": "stdout",
          "text": [
            "Round 10 testing accuracy: 0.6036\n"
          ]
        }
      ]
    },
    {
      "cell_type": "code",
      "source": [
        "##### LEAST CONFIDENCE STRATEGY\n",
        "for rd in range(1,11):\n",
        "    print(f\"Round {rd}\")\n",
        "\n",
        "    # query\n",
        "    query_idxs = strategy4.query(500)\n",
        "\n",
        "    # update labels\n",
        "    strategy4.update(query_idxs)\n",
        "    strategy4.train()\n",
        "\n",
        "    # calculate accuracy\n",
        "    preds = strategy4.predict(dataset1.get_test_data())\n",
        "    print(f\"Round {rd} testing accuracy: {dataset1.cal_test_acc(preds)}\") "
      ],
      "metadata": {
        "id": "ik_Y4mOGX24O",
        "colab": {
          "base_uri": "https://localhost:8080/"
        },
        "outputId": "97404fda-4b7f-4b44-dba2-ebec8ee5df08"
      },
      "execution_count": null,
      "outputs": [
        {
          "output_type": "stream",
          "name": "stdout",
          "text": [
            "Round 1\n"
          ]
        },
        {
          "output_type": "stream",
          "name": "stderr",
          "text": [
            "100%|███████████████████████████████████████████████████████████████| 20/20 [01:51<00:00,  5.55s/it]\n"
          ]
        },
        {
          "output_type": "stream",
          "name": "stdout",
          "text": [
            "Round 1 testing accuracy: 0.6203\n",
            "Round 2\n"
          ]
        },
        {
          "output_type": "stream",
          "name": "stderr",
          "text": [
            "100%|███████████████████████████████████████████████████████████████| 20/20 [01:54<00:00,  5.74s/it]\n"
          ]
        },
        {
          "output_type": "stream",
          "name": "stdout",
          "text": [
            "Round 2 testing accuracy: 0.6085\n",
            "Round 3\n"
          ]
        },
        {
          "output_type": "stream",
          "name": "stderr",
          "text": [
            "100%|███████████████████████████████████████████████████████████████| 20/20 [01:58<00:00,  5.94s/it]\n"
          ]
        },
        {
          "output_type": "stream",
          "name": "stdout",
          "text": [
            "Round 3 testing accuracy: 0.6093\n",
            "Round 4\n"
          ]
        },
        {
          "output_type": "stream",
          "name": "stderr",
          "text": [
            "100%|███████████████████████████████████████████████████████████████| 20/20 [02:01<00:00,  6.08s/it]\n"
          ]
        },
        {
          "output_type": "stream",
          "name": "stdout",
          "text": [
            "Round 4 testing accuracy: 0.6189\n",
            "Round 5\n"
          ]
        },
        {
          "output_type": "stream",
          "name": "stderr",
          "text": [
            "100%|███████████████████████████████████████████████████████████████| 20/20 [02:05<00:00,  6.26s/it]\n"
          ]
        },
        {
          "output_type": "stream",
          "name": "stdout",
          "text": [
            "Round 5 testing accuracy: 0.6063\n",
            "Round 6\n"
          ]
        },
        {
          "output_type": "stream",
          "name": "stderr",
          "text": [
            "100%|███████████████████████████████████████████████████████████████| 20/20 [02:08<00:00,  6.45s/it]\n"
          ]
        },
        {
          "output_type": "stream",
          "name": "stdout",
          "text": [
            "Round 6 testing accuracy: 0.5842\n",
            "Round 7\n"
          ]
        },
        {
          "output_type": "stream",
          "name": "stderr",
          "text": [
            "100%|███████████████████████████████████████████████████████████████| 20/20 [02:12<00:00,  6.61s/it]\n"
          ]
        },
        {
          "output_type": "stream",
          "name": "stdout",
          "text": [
            "Round 7 testing accuracy: 0.5703\n",
            "Round 8\n"
          ]
        },
        {
          "output_type": "stream",
          "name": "stderr",
          "text": [
            "100%|███████████████████████████████████████████████████████████████| 20/20 [02:16<00:00,  6.82s/it]\n"
          ]
        },
        {
          "output_type": "stream",
          "name": "stdout",
          "text": [
            "Round 8 testing accuracy: 0.6277\n",
            "Round 9\n"
          ]
        },
        {
          "output_type": "stream",
          "name": "stderr",
          "text": [
            "100%|███████████████████████████████████████████████████████████████| 20/20 [02:19<00:00,  6.98s/it]\n"
          ]
        },
        {
          "output_type": "stream",
          "name": "stdout",
          "text": [
            "Round 9 testing accuracy: 0.6249\n",
            "Round 10\n"
          ]
        },
        {
          "output_type": "stream",
          "name": "stderr",
          "text": [
            "100%|███████████████████████████████████████████████████████████████| 20/20 [02:22<00:00,  7.13s/it]\n"
          ]
        },
        {
          "output_type": "stream",
          "name": "stdout",
          "text": [
            "Round 10 testing accuracy: 0.6358\n"
          ]
        }
      ]
    },
    {
      "cell_type": "markdown",
      "source": [
        "# **MNIST Dataset Loading and Visualization**"
      ],
      "metadata": {
        "id": "RHKsBcPlYrw1"
      }
    },
    {
      "cell_type": "code",
      "source": [
        "#MNIST\n",
        "trainset2 = torchvision.datasets.MNIST(\n",
        "    root='./data', train=True, download=True, transform=transforms.ToTensor()\n",
        ")\n",
        "\n",
        "testset2 = torchvision.datasets.MNIST(\n",
        "    root='./data', train=False, download=True, transform=transforms.ToTensor() \n",
        ") "
      ],
      "metadata": {
        "id": "oF1SSF_VY3WX",
        "colab": {
          "base_uri": "https://localhost:8080/"
        },
        "outputId": "d946b20b-2b6e-4867-835e-4a88ed74c1a4"
      },
      "execution_count": null,
      "outputs": [
        {
          "output_type": "stream",
          "name": "stdout",
          "text": [
            "Downloading http://yann.lecun.com/exdb/mnist/train-images-idx3-ubyte.gz\n",
            "Downloading http://yann.lecun.com/exdb/mnist/train-images-idx3-ubyte.gz to ./data/MNIST/raw/train-images-idx3-ubyte.gz\n"
          ]
        },
        {
          "output_type": "stream",
          "name": "stderr",
          "text": [
            "100%|██████████| 9912422/9912422 [00:00<00:00, 362764477.56it/s]"
          ]
        },
        {
          "output_type": "stream",
          "name": "stdout",
          "text": [
            "Extracting ./data/MNIST/raw/train-images-idx3-ubyte.gz to ./data/MNIST/raw\n"
          ]
        },
        {
          "output_type": "stream",
          "name": "stderr",
          "text": [
            "\n"
          ]
        },
        {
          "output_type": "stream",
          "name": "stdout",
          "text": [
            "\n",
            "Downloading http://yann.lecun.com/exdb/mnist/train-labels-idx1-ubyte.gz\n",
            "Downloading http://yann.lecun.com/exdb/mnist/train-labels-idx1-ubyte.gz to ./data/MNIST/raw/train-labels-idx1-ubyte.gz\n"
          ]
        },
        {
          "output_type": "stream",
          "name": "stderr",
          "text": [
            "100%|██████████| 28881/28881 [00:00<00:00, 46716426.47it/s]\n"
          ]
        },
        {
          "output_type": "stream",
          "name": "stdout",
          "text": [
            "Extracting ./data/MNIST/raw/train-labels-idx1-ubyte.gz to ./data/MNIST/raw\n",
            "\n",
            "Downloading http://yann.lecun.com/exdb/mnist/t10k-images-idx3-ubyte.gz\n",
            "Downloading http://yann.lecun.com/exdb/mnist/t10k-images-idx3-ubyte.gz to ./data/MNIST/raw/t10k-images-idx3-ubyte.gz\n"
          ]
        },
        {
          "output_type": "stream",
          "name": "stderr",
          "text": [
            "100%|██████████| 1648877/1648877 [00:00<00:00, 193138164.56it/s]\n"
          ]
        },
        {
          "output_type": "stream",
          "name": "stdout",
          "text": [
            "Extracting ./data/MNIST/raw/t10k-images-idx3-ubyte.gz to ./data/MNIST/raw\n",
            "\n",
            "Downloading http://yann.lecun.com/exdb/mnist/t10k-labels-idx1-ubyte.gz\n",
            "Downloading http://yann.lecun.com/exdb/mnist/t10k-labels-idx1-ubyte.gz to ./data/MNIST/raw/t10k-labels-idx1-ubyte.gz\n"
          ]
        },
        {
          "output_type": "stream",
          "name": "stderr",
          "text": [
            "100%|██████████| 4542/4542 [00:00<00:00, 6096169.21it/s]"
          ]
        },
        {
          "output_type": "stream",
          "name": "stdout",
          "text": [
            "Extracting ./data/MNIST/raw/t10k-labels-idx1-ubyte.gz to ./data/MNIST/raw\n",
            "\n"
          ]
        },
        {
          "output_type": "stream",
          "name": "stderr",
          "text": [
            "\n"
          ]
        }
      ]
    },
    {
      "cell_type": "code",
      "source": [
        "IDX_TO_LABEL2 = {v: k for k, v in trainset2.class_to_idx.items()}"
      ],
      "metadata": {
        "id": "Z3bA497u5od4"
      },
      "execution_count": null,
      "outputs": []
    },
    {
      "cell_type": "code",
      "source": [
        "fig, ax = plt.subplots(figsize=(16, 6))\n",
        "\n",
        "sns.countplot(\n",
        "    x=pd.Series(trainset2.targets).map(IDX_TO_LABEL2), \n",
        "    order=IDX_TO_LABEL2.values(),\n",
        ").set_title('Training set distribution')\n",
        "\n",
        "plt.show()\n"
      ],
      "metadata": {
        "colab": {
          "base_uri": "https://localhost:8080/",
          "height": 461
        },
        "id": "srMXVZ8x7XBN",
        "outputId": "a5b4604b-0c59-48ec-8b6c-9d94addf8836"
      },
      "execution_count": null,
      "outputs": [
        {
          "output_type": "display_data",
          "data": {
            "text/plain": [
              "<Figure size 1600x600 with 1 Axes>"
            ],
            "image/png": "[encoded data removed]"
          },
          "metadata": {}
        }
      ]
    },
    {
      "cell_type": "code",
      "source": [
        "fig, ax = plt.subplots(figsize=(16, 6))\n",
        "\n",
        "sns.countplot(\n",
        "    x=pd.Series(testset2.targets).map(IDX_TO_LABEL2), \n",
        "    order=IDX_TO_LABEL2.values(),\n",
        ").set_title('Test set distribution')\n",
        "\n",
        "plt.show() "
      ],
      "metadata": {
        "colab": {
          "base_uri": "https://localhost:8080/",
          "height": 565
        },
        "id": "oGYpRvgr7scB",
        "outputId": "86d39f88-5fb4-472c-c178-f90608dc3950"
      },
      "execution_count": null,
      "outputs": [
        {
          "output_type": "display_data",
          "data": {
            "text/plain": [
              "<Figure size 1600x600 with 1 Axes>"
            ],
            "image/png": "[encoded data removed]"
          },
          "metadata": {}
        }
      ]
    },
    {
      "cell_type": "code",
      "source": [
        "import data"
      ],
      "metadata": {
        "id": "DrNsftuUVi0o"
      },
      "execution_count": null,
      "outputs": []
    },
    {
      "cell_type": "code",
      "source": [
        "dataset2b=get_MNIST(MNIST_Handler)"
      ],
      "metadata": {
        "id": "uJjKIDhdVm_X"
      },
      "execution_count": null,
      "outputs": []
    },
    {
      "cell_type": "code",
      "source": [
        "class MNIST_Net(nn.Module):\n",
        "    def __init__(self):\n",
        "        super(MNIST_Net, self).__init__()\n",
        "        self.conv1 = nn.Conv2d(1, 10, kernel_size=5)\n",
        "        self.conv2 = nn.Conv2d(10, 20, kernel_size=5)\n",
        "        self.conv2_drop = nn.Dropout2d()\n",
        "        self.fc1 = nn.Linear(320, 50)\n",
        "        self.fc2 = nn.Linear(50, 10)\n",
        "\n",
        "    def forward(self, x):\n",
        "        x = F.relu(F.max_pool2d(self.conv1(x), 2))\n",
        "        x = F.relu(F.max_pool2d(self.conv2_drop(self.conv2(x)), 2))\n",
        "        x = x.view(-1, 320)\n",
        "        e1 = F.relu(self.fc1(x))\n",
        "        x = F.dropout(e1, training=self.training)\n",
        "        x = self.fc2(x)\n",
        "        return x, e1\n",
        "    def get_embedding_dim(self):\n",
        "        return 50"
      ],
      "metadata": {
        "id": "bOPkfCgyEXDN"
      },
      "execution_count": null,
      "outputs": []
    },
    {
      "cell_type": "code",
      "source": [
        "#initializing net parameters\n",
        "MNIST=     {'n_epoch': 10, \n",
        "               'train_args':{'batch_size': 64, 'num_workers': 1},\n",
        "               'test_args':{'batch_size': 1000, 'num_workers': 1},\n",
        "               'optimizer_args':{'lr': 0.01, 'momentum': 0.5}}"
      ],
      "metadata": {
        "id": "MrjSyURrFsO6"
      },
      "execution_count": null,
      "outputs": []
    },
    {
      "cell_type": "code",
      "source": [
        "net2= Net(MNIST_Net, MNIST, device)"
      ],
      "metadata": {
        "id": "brAft3fGSCha"
      },
      "execution_count": null,
      "outputs": []
    },
    {
      "cell_type": "markdown",
      "source": [
        "# **Testing different strategies on MNIST dataset**"
      ],
      "metadata": {
        "id": "FAwFr-F2hkff"
      }
    },
    {
      "cell_type": "code",
      "source": [
        "strategy1b=RandomSampling(dataset2b,net2)\n",
        "strategy2b=MarginSampling(dataset2b,net2)\n",
        "strategy3b=EntropySampling(dataset2b,net2)\n",
        "strategy4b=LeastConfidence(dataset2b,net2)"
      ],
      "metadata": {
        "id": "NFaNAkeOR9Yv"
      },
      "execution_count": null,
      "outputs": []
    },
    {
      "cell_type": "code",
      "source": [
        "##### RANDOM SAMPLING STRATEGY\n",
        "for rd in range(1,11):\n",
        "    print(f\"Round {rd}\")\n",
        "\n",
        "    # query\n",
        "    query_idxs = strategy1b.query(500)\n",
        "\n",
        "    # update labels\n",
        "    strategy1b.update(query_idxs)\n",
        "    strategy1b.train()\n",
        "\n",
        "    # calculate accuracy\n",
        "    preds = strategy1b.predict(dataset2b.get_test_data())\n",
        "    print(f\"Round {rd} testing accuracy: {dataset2b.cal_test_acc(preds)}\") "
      ],
      "metadata": {
        "colab": {
          "base_uri": "https://localhost:8080/"
        },
        "id": "JEO5MfXDSiV_",
        "outputId": "9676b7e1-0957-4df8-bc98-cf9d3cdb6fae"
      },
      "execution_count": null,
      "outputs": [
        {
          "output_type": "stream",
          "name": "stdout",
          "text": [
            "Round 1\n"
          ]
        },
        {
          "output_type": "stream",
          "name": "stderr",
          "text": [
            "100%|███████████████████████████████████████████████████████████████| 10/10 [00:02<00:00,  3.90it/s]\n"
          ]
        },
        {
          "output_type": "stream",
          "name": "stdout",
          "text": [
            "Round 1 testing accuracy: 0.5307\n",
            "Round 2\n"
          ]
        },
        {
          "output_type": "stream",
          "name": "stderr",
          "text": [
            "100%|███████████████████████████████████████████████████████████████| 10/10 [00:04<00:00,  2.20it/s]\n"
          ]
        },
        {
          "output_type": "stream",
          "name": "stdout",
          "text": [
            "Round 2 testing accuracy: 0.7951\n",
            "Round 3\n"
          ]
        },
        {
          "output_type": "stream",
          "name": "stderr",
          "text": [
            "100%|███████████████████████████████████████████████████████████████| 10/10 [00:05<00:00,  1.83it/s]\n"
          ]
        },
        {
          "output_type": "stream",
          "name": "stdout",
          "text": [
            "Round 3 testing accuracy: 0.8606\n",
            "Round 4\n"
          ]
        },
        {
          "output_type": "stream",
          "name": "stderr",
          "text": [
            "100%|███████████████████████████████████████████████████████████████| 10/10 [00:07<00:00,  1.38it/s]\n"
          ]
        },
        {
          "output_type": "stream",
          "name": "stdout",
          "text": [
            "Round 4 testing accuracy: 0.8764\n",
            "Round 5\n"
          ]
        },
        {
          "output_type": "stream",
          "name": "stderr",
          "text": [
            "100%|███████████████████████████████████████████████████████████████| 10/10 [00:10<00:00,  1.03s/it]\n"
          ]
        },
        {
          "output_type": "stream",
          "name": "stdout",
          "text": [
            "Round 5 testing accuracy: 0.9085\n",
            "Round 6\n"
          ]
        },
        {
          "output_type": "stream",
          "name": "stderr",
          "text": [
            "100%|███████████████████████████████████████████████████████████████| 10/10 [00:10<00:00,  1.01s/it]\n"
          ]
        },
        {
          "output_type": "stream",
          "name": "stdout",
          "text": [
            "Round 6 testing accuracy: 0.9271\n",
            "Round 7\n"
          ]
        },
        {
          "output_type": "stream",
          "name": "stderr",
          "text": [
            "100%|███████████████████████████████████████████████████████████████| 10/10 [00:12<00:00,  1.22s/it]\n"
          ]
        },
        {
          "output_type": "stream",
          "name": "stdout",
          "text": [
            "Round 7 testing accuracy: 0.9201\n",
            "Round 8\n"
          ]
        },
        {
          "output_type": "stream",
          "name": "stderr",
          "text": [
            "100%|███████████████████████████████████████████████████████████████| 10/10 [00:13<00:00,  1.33s/it]\n"
          ]
        },
        {
          "output_type": "stream",
          "name": "stdout",
          "text": [
            "Round 8 testing accuracy: 0.9286\n",
            "Round 9\n"
          ]
        },
        {
          "output_type": "stream",
          "name": "stderr",
          "text": [
            "100%|███████████████████████████████████████████████████████████████| 10/10 [00:15<00:00,  1.54s/it]\n"
          ]
        },
        {
          "output_type": "stream",
          "name": "stdout",
          "text": [
            "Round 9 testing accuracy: 0.937\n",
            "Round 10\n"
          ]
        },
        {
          "output_type": "stream",
          "name": "stderr",
          "text": [
            "100%|███████████████████████████████████████████████████████████████| 10/10 [00:16<00:00,  1.62s/it]\n"
          ]
        },
        {
          "output_type": "stream",
          "name": "stdout",
          "text": [
            "Round 10 testing accuracy: 0.9286\n"
          ]
        }
      ]
    },
    {
      "cell_type": "code",
      "source": [
        "##### MARGIN SAMPLING STRATEGY\n",
        "for rd in range(1,11):\n",
        "    print(f\"Round {rd}\")\n",
        "\n",
        "    # query\n",
        "    query_idxs = strategy2b.query(500)\n",
        "\n",
        "    # update labels\n",
        "    strategy2b.update(query_idxs)\n",
        "    strategy2b.train()\n",
        "\n",
        "    # calculate accuracy\n",
        "    preds = strategy2b.predict(dataset2b.get_test_data())\n",
        "    print(f\"Round {rd} testing accuracy: {dataset2b.cal_test_acc(preds)}\") "
      ],
      "metadata": {
        "colab": {
          "base_uri": "https://localhost:8080/"
        },
        "id": "l0dklaHgWfmS",
        "outputId": "3981c4da-f52a-4cf3-9360-7b4b2b2e4c61"
      },
      "execution_count": null,
      "outputs": [
        {
          "output_type": "stream",
          "name": "stdout",
          "text": [
            "Round 1\n"
          ]
        },
        {
          "output_type": "stream",
          "name": "stderr",
          "text": [
            "100%|███████████████████████████████████████████████████████████████| 10/10 [00:17<00:00,  1.78s/it]\n"
          ]
        },
        {
          "output_type": "stream",
          "name": "stdout",
          "text": [
            "Round 1 testing accuracy: 0.9488\n",
            "Round 2\n"
          ]
        },
        {
          "output_type": "stream",
          "name": "stderr",
          "text": [
            "100%|███████████████████████████████████████████████████████████████| 10/10 [00:24<00:00,  2.48s/it]\n"
          ]
        },
        {
          "output_type": "stream",
          "name": "stdout",
          "text": [
            "Round 2 testing accuracy: 0.9521\n",
            "Round 3\n"
          ]
        },
        {
          "output_type": "stream",
          "name": "stderr",
          "text": [
            "100%|███████████████████████████████████████████████████████████████| 10/10 [00:22<00:00,  2.23s/it]\n"
          ]
        },
        {
          "output_type": "stream",
          "name": "stdout",
          "text": [
            "Round 3 testing accuracy: 0.9642\n",
            "Round 4\n"
          ]
        },
        {
          "output_type": "stream",
          "name": "stderr",
          "text": [
            "100%|███████████████████████████████████████████████████████████████| 10/10 [00:23<00:00,  2.31s/it]\n"
          ]
        },
        {
          "output_type": "stream",
          "name": "stdout",
          "text": [
            "Round 4 testing accuracy: 0.9596\n",
            "Round 5\n"
          ]
        },
        {
          "output_type": "stream",
          "name": "stderr",
          "text": [
            "100%|███████████████████████████████████████████████████████████████| 10/10 [00:24<00:00,  2.41s/it]\n"
          ]
        },
        {
          "output_type": "stream",
          "name": "stdout",
          "text": [
            "Round 5 testing accuracy: 0.9664\n",
            "Round 6\n"
          ]
        },
        {
          "output_type": "stream",
          "name": "stderr",
          "text": [
            "100%|███████████████████████████████████████████████████████████████| 10/10 [00:25<00:00,  2.54s/it]\n"
          ]
        },
        {
          "output_type": "stream",
          "name": "stdout",
          "text": [
            "Round 6 testing accuracy: 0.9679\n",
            "Round 7\n"
          ]
        },
        {
          "output_type": "stream",
          "name": "stderr",
          "text": [
            "100%|███████████████████████████████████████████████████████████████| 10/10 [00:26<00:00,  2.67s/it]\n"
          ]
        },
        {
          "output_type": "stream",
          "name": "stdout",
          "text": [
            "Round 7 testing accuracy: 0.9715\n",
            "Round 8\n"
          ]
        },
        {
          "output_type": "stream",
          "name": "stderr",
          "text": [
            "100%|███████████████████████████████████████████████████████████████| 10/10 [00:29<00:00,  2.91s/it]\n"
          ]
        },
        {
          "output_type": "stream",
          "name": "stdout",
          "text": [
            "Round 8 testing accuracy: 0.9656\n",
            "Round 9\n"
          ]
        },
        {
          "output_type": "stream",
          "name": "stderr",
          "text": [
            "100%|███████████████████████████████████████████████████████████████| 10/10 [00:30<00:00,  3.03s/it]\n"
          ]
        },
        {
          "output_type": "stream",
          "name": "stdout",
          "text": [
            "Round 9 testing accuracy: 0.9745\n",
            "Round 10\n"
          ]
        },
        {
          "output_type": "stream",
          "name": "stderr",
          "text": [
            "100%|███████████████████████████████████████████████████████████████| 10/10 [00:31<00:00,  3.20s/it]\n"
          ]
        },
        {
          "output_type": "stream",
          "name": "stdout",
          "text": [
            "Round 10 testing accuracy: 0.9741\n"
          ]
        }
      ]
    },
    {
      "cell_type": "code",
      "source": [
        "##### ENTROPY SAMPLING STRATEGY\n",
        "for rd in range(1,11):\n",
        "    print(f\"Round {rd}\")\n",
        "\n",
        "    # query\n",
        "    query_idxs = strategy3b.query(500)\n",
        "\n",
        "    # update labels\n",
        "    strategy3b.update(query_idxs)\n",
        "    strategy3b.train()\n",
        "\n",
        "    # calculate accuracy\n",
        "    preds = strategy3b.predict(dataset2b.get_test_data())\n",
        "    print(f\"Round {rd} testing accuracy: {dataset2b.cal_test_acc(preds)}\") "
      ],
      "metadata": {
        "colab": {
          "base_uri": "https://localhost:8080/"
        },
        "id": "Gk_F8GdFWxbl",
        "outputId": "ee2c7538-4c61-4ebb-cd56-18312f6f8056"
      },
      "execution_count": null,
      "outputs": [
        {
          "output_type": "stream",
          "name": "stdout",
          "text": [
            "Round 1\n"
          ]
        },
        {
          "output_type": "stream",
          "name": "stderr",
          "text": [
            "100%|███████████████████████████████████████████████████████████████| 10/10 [00:33<00:00,  3.31s/it]\n"
          ]
        },
        {
          "output_type": "stream",
          "name": "stdout",
          "text": [
            "Round 1 testing accuracy: 0.9714\n",
            "Round 2\n"
          ]
        },
        {
          "output_type": "stream",
          "name": "stderr",
          "text": [
            "100%|███████████████████████████████████████████████████████████████| 10/10 [00:35<00:00,  3.57s/it]\n"
          ]
        },
        {
          "output_type": "stream",
          "name": "stdout",
          "text": [
            "Round 2 testing accuracy: 0.9792\n",
            "Round 3\n"
          ]
        },
        {
          "output_type": "stream",
          "name": "stderr",
          "text": [
            "100%|███████████████████████████████████████████████████████████████| 10/10 [00:35<00:00,  3.56s/it]\n"
          ]
        },
        {
          "output_type": "stream",
          "name": "stdout",
          "text": [
            "Round 3 testing accuracy: 0.9774\n",
            "Round 4\n"
          ]
        },
        {
          "output_type": "stream",
          "name": "stderr",
          "text": [
            "100%|███████████████████████████████████████████████████████████████| 10/10 [00:36<00:00,  3.68s/it]\n"
          ]
        },
        {
          "output_type": "stream",
          "name": "stdout",
          "text": [
            "Round 4 testing accuracy: 0.9756\n",
            "Round 5\n"
          ]
        },
        {
          "output_type": "stream",
          "name": "stderr",
          "text": [
            "100%|███████████████████████████████████████████████████████████████| 10/10 [00:39<00:00,  3.91s/it]\n"
          ]
        },
        {
          "output_type": "stream",
          "name": "stdout",
          "text": [
            "Round 5 testing accuracy: 0.9757\n",
            "Round 6\n"
          ]
        },
        {
          "output_type": "stream",
          "name": "stderr",
          "text": [
            "100%|███████████████████████████████████████████████████████████████| 10/10 [00:41<00:00,  4.14s/it]\n"
          ]
        },
        {
          "output_type": "stream",
          "name": "stdout",
          "text": [
            "Round 6 testing accuracy: 0.9782\n",
            "Round 7\n"
          ]
        },
        {
          "output_type": "stream",
          "name": "stderr",
          "text": [
            "100%|███████████████████████████████████████████████████████████████| 10/10 [00:42<00:00,  4.23s/it]\n"
          ]
        },
        {
          "output_type": "stream",
          "name": "stdout",
          "text": [
            "Round 7 testing accuracy: 0.9792\n",
            "Round 8\n"
          ]
        },
        {
          "output_type": "stream",
          "name": "stderr",
          "text": [
            "100%|███████████████████████████████████████████████████████████████| 10/10 [00:43<00:00,  4.37s/it]\n"
          ]
        },
        {
          "output_type": "stream",
          "name": "stdout",
          "text": [
            "Round 8 testing accuracy: 0.9804\n",
            "Round 9\n"
          ]
        },
        {
          "output_type": "stream",
          "name": "stderr",
          "text": [
            "100%|███████████████████████████████████████████████████████████████| 10/10 [00:44<00:00,  4.47s/it]\n"
          ]
        },
        {
          "output_type": "stream",
          "name": "stdout",
          "text": [
            "Round 9 testing accuracy: 0.9792\n",
            "Round 10\n"
          ]
        },
        {
          "output_type": "stream",
          "name": "stderr",
          "text": [
            "100%|███████████████████████████████████████████████████████████████| 10/10 [00:46<00:00,  4.61s/it]\n"
          ]
        },
        {
          "output_type": "stream",
          "name": "stdout",
          "text": [
            "Round 10 testing accuracy: 0.9769\n"
          ]
        }
      ]
    },
    {
      "cell_type": "code",
      "source": [
        "##### LEAST CONFIDENCE STRATEGY\n",
        "for rd in range(1,11):\n",
        "    print(f\"Round {rd}\")\n",
        "\n",
        "    # query\n",
        "    query_idxs = strategy4b.query(500)\n",
        "\n",
        "    # update labels\n",
        "    strategy4b.update(query_idxs)\n",
        "    strategy4b.train()\n",
        "\n",
        "    # calculate accuracy\n",
        "    preds = strategy4b.predict(dataset2b.get_test_data())\n",
        "    print(f\"Round {rd} testing accuracy: {dataset2b.cal_test_acc(preds)}\") "
      ],
      "metadata": {
        "colab": {
          "base_uri": "https://localhost:8080/"
        },
        "id": "kNPQ9-0lWx0Q",
        "outputId": "2e2d357e-0cf2-45ab-d866-a82ee4b4520a"
      },
      "execution_count": null,
      "outputs": [
        {
          "output_type": "stream",
          "name": "stdout",
          "text": [
            "Round 1\n"
          ]
        },
        {
          "output_type": "stream",
          "name": "stderr",
          "text": [
            "100%|███████████████████████████████████████████████████████████████| 10/10 [00:02<00:00,  4.09it/s]\n"
          ]
        },
        {
          "output_type": "stream",
          "name": "stdout",
          "text": [
            "Round 1 testing accuracy: 0.2979\n",
            "Round 2\n"
          ]
        },
        {
          "output_type": "stream",
          "name": "stderr",
          "text": [
            "100%|███████████████████████████████████████████████████████████████| 10/10 [00:04<00:00,  2.37it/s]\n"
          ]
        },
        {
          "output_type": "stream",
          "name": "stdout",
          "text": [
            "Round 2 testing accuracy: 0.5479\n",
            "Round 3\n"
          ]
        },
        {
          "output_type": "stream",
          "name": "stderr",
          "text": [
            "100%|███████████████████████████████████████████████████████████████| 10/10 [00:05<00:00,  1.72it/s]\n"
          ]
        },
        {
          "output_type": "stream",
          "name": "stdout",
          "text": [
            "Round 3 testing accuracy: 0.7123\n",
            "Round 4\n"
          ]
        },
        {
          "output_type": "stream",
          "name": "stderr",
          "text": [
            "100%|███████████████████████████████████████████████████████████████| 10/10 [00:06<00:00,  1.49it/s]\n"
          ]
        },
        {
          "output_type": "stream",
          "name": "stdout",
          "text": [
            "Round 4 testing accuracy: 0.8175\n",
            "Round 5\n"
          ]
        },
        {
          "output_type": "stream",
          "name": "stderr",
          "text": [
            "100%|███████████████████████████████████████████████████████████████| 10/10 [00:09<00:00,  1.06it/s]\n"
          ]
        },
        {
          "output_type": "stream",
          "name": "stdout",
          "text": [
            "Round 5 testing accuracy: 0.8482\n",
            "Round 6\n"
          ]
        },
        {
          "output_type": "stream",
          "name": "stderr",
          "text": [
            "100%|███████████████████████████████████████████████████████████████| 10/10 [00:10<00:00,  1.01s/it]\n"
          ]
        },
        {
          "output_type": "stream",
          "name": "stdout",
          "text": [
            "Round 6 testing accuracy: 0.8981\n",
            "Round 7\n"
          ]
        },
        {
          "output_type": "stream",
          "name": "stderr",
          "text": [
            "100%|███████████████████████████████████████████████████████████████| 10/10 [00:11<00:00,  1.16s/it]\n"
          ]
        },
        {
          "output_type": "stream",
          "name": "stdout",
          "text": [
            "Round 7 testing accuracy: 0.9121\n",
            "Round 8\n"
          ]
        },
        {
          "output_type": "stream",
          "name": "stderr",
          "text": [
            "100%|███████████████████████████████████████████████████████████████| 10/10 [00:13<00:00,  1.31s/it]\n"
          ]
        },
        {
          "output_type": "stream",
          "name": "stdout",
          "text": [
            "Round 8 testing accuracy: 0.9253\n",
            "Round 9\n"
          ]
        },
        {
          "output_type": "stream",
          "name": "stderr",
          "text": [
            "100%|███████████████████████████████████████████████████████████████| 10/10 [00:14<00:00,  1.44s/it]\n"
          ]
        },
        {
          "output_type": "stream",
          "name": "stdout",
          "text": [
            "Round 9 testing accuracy: 0.9459\n",
            "Round 10\n"
          ]
        },
        {
          "output_type": "stream",
          "name": "stderr",
          "text": [
            "100%|███████████████████████████████████████████████████████████████| 10/10 [00:15<00:00,  1.59s/it]\n"
          ]
        },
        {
          "output_type": "stream",
          "name": "stdout",
          "text": [
            "Round 10 testing accuracy: 0.9447\n"
          ]
        }
      ]
    }
  ]
}